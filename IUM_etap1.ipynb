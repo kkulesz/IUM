{
 "cells": [
  {
   "cell_type": "markdown",
   "id": "foster-humor",
   "metadata": {},
   "source": [
    "# IUM etap 1\n",
    "## To jest brudnopis, potem to jakoś ładnie przepiszemy\n",
    "###### Definicja problemu biznesowego\n",
    "Na ten moment: “Niektórzy klienci nie mogą zdecydować się na zakup oglądając produkt na stronie –\n",
    "ale pewnie gdybyśmy wiedzieli, które to są osoby, to odpowiednia zniżka skłoniłaby \n",
    "ich do zakupu\"\n",
    "\n",
    "\n",
    "###### Zadanie modelowania\n",
    "1. Grupowanie klientów => Maksymalizacja przychodów w zależności od zniżki dla danej grupy? KOM: to trochę wychodzi poza zakes zadania\n",
    "2. Binarna klasyfikacja czy sesja danej osoby zakończy się zakupem? \n",
    "3. Regresja określająca prawdopodobieństwo, że sesja zakończy się sukcesem? KOM: tutaj klient miałby duże pole manewru w przyznawaniu zniżek, czyli moglibyśmy wymagać więcej pieniędzy\n",
    "\n",
    "###### Kryterium sukcesu\n",
    "\n",
    "1. więcej kasy niż losowe(w proporcjach takich jak teraz) przyznawanie discountów?\n",
    "2. większy procent poprawnej klasyfikacji niż założenie że wszyscy \"nie kupią\"(w łatwy sposób do policzenia na podstawie dostępnych danych)\n",
    "3. trudno powiedzieć, może MSE mniejszy niż jakaś arbitralnie uzgodniona z klientem wartość?\n",
    "\n",
    "\n"
   ]
  },
  {
   "cell_type": "markdown",
   "id": "dietary-wednesday",
   "metadata": {},
   "source": [
    "## Analiza danych"
   ]
  },
  {
   "cell_type": "code",
   "execution_count": 20,
   "id": "sustained-atmosphere",
   "metadata": {},
   "outputs": [],
   "source": [
    "import pandas as pd"
   ]
  },
  {
   "cell_type": "code",
   "execution_count": 21,
   "id": "brown-actor",
   "metadata": {},
   "outputs": [],
   "source": [
    "#read all data\n",
    "users = pd.read_json('dane/users.jsonl', lines=True)\n",
    "products = pd.read_json('dane/products.jsonl', lines=True)\n",
    "sessions = pd.read_json('dane/sessions.jsonl', lines=True)\n",
    "deliveries = pd.read_json('dane/deliveries.jsonl', lines=True)"
   ]
  },
  {
   "cell_type": "markdown",
   "id": "dying-return",
   "metadata": {},
   "source": [
    "### Users.jsonl"
   ]
  },
  {
   "cell_type": "code",
   "execution_count": 22,
   "id": "engaging-attempt",
   "metadata": {
    "scrolled": false
   },
   "outputs": [
    {
     "name": "stdout",
     "output_type": "stream",
     "text": [
      "<class 'pandas.core.frame.DataFrame'>\n",
      "RangeIndex: 200 entries, 0 to 199\n",
      "Data columns (total 4 columns):\n",
      " #   Column   Non-Null Count  Dtype \n",
      "---  ------   --------------  ----- \n",
      " 0   user_id  200 non-null    int64 \n",
      " 1   name     200 non-null    object\n",
      " 2   city     200 non-null    object\n",
      " 3   street   200 non-null    object\n",
      "dtypes: int64(1), object(3)\n",
      "memory usage: 6.4+ KB\n"
     ]
    }
   ],
   "source": [
    "users.info()"
   ]
  },
  {
   "cell_type": "code",
   "execution_count": 24,
   "id": "quality-legislature",
   "metadata": {},
   "outputs": [
    {
     "data": {
      "text/html": [
       "<div>\n",
       "<style scoped>\n",
       "    .dataframe tbody tr th:only-of-type {\n",
       "        vertical-align: middle;\n",
       "    }\n",
       "\n",
       "    .dataframe tbody tr th {\n",
       "        vertical-align: top;\n",
       "    }\n",
       "\n",
       "    .dataframe thead th {\n",
       "        text-align: right;\n",
       "    }\n",
       "</style>\n",
       "<table border=\"1\" class=\"dataframe\">\n",
       "  <thead>\n",
       "    <tr style=\"text-align: right;\">\n",
       "      <th></th>\n",
       "      <th>user_id</th>\n",
       "      <th>name</th>\n",
       "      <th>city</th>\n",
       "      <th>street</th>\n",
       "    </tr>\n",
       "  </thead>\n",
       "  <tbody>\n",
       "    <tr>\n",
       "      <th>0</th>\n",
       "      <td>102</td>\n",
       "      <td>Ignacy Kozica</td>\n",
       "      <td>Police</td>\n",
       "      <td>ul. Wiśniowa 14</td>\n",
       "    </tr>\n",
       "    <tr>\n",
       "      <th>1</th>\n",
       "      <td>103</td>\n",
       "      <td>Sylwia Czubaszek</td>\n",
       "      <td>Warszawa</td>\n",
       "      <td>plac Towarowa 28</td>\n",
       "    </tr>\n",
       "    <tr>\n",
       "      <th>2</th>\n",
       "      <td>104</td>\n",
       "      <td>Bruno Bak</td>\n",
       "      <td>Kutno</td>\n",
       "      <td>ul. Bolesława Krzywoustego 91</td>\n",
       "    </tr>\n",
       "    <tr>\n",
       "      <th>3</th>\n",
       "      <td>105</td>\n",
       "      <td>Aniela Kaziród</td>\n",
       "      <td>Mielec</td>\n",
       "      <td>ul. Długa 69/74</td>\n",
       "    </tr>\n",
       "    <tr>\n",
       "      <th>4</th>\n",
       "      <td>106</td>\n",
       "      <td>Norbert Trybała</td>\n",
       "      <td>Warszawa</td>\n",
       "      <td>aleja Targowa 28/25</td>\n",
       "    </tr>\n",
       "    <tr>\n",
       "      <th>...</th>\n",
       "      <td>...</td>\n",
       "      <td>...</td>\n",
       "      <td>...</td>\n",
       "      <td>...</td>\n",
       "    </tr>\n",
       "    <tr>\n",
       "      <th>195</th>\n",
       "      <td>297</td>\n",
       "      <td>Justyna Grzelczyk</td>\n",
       "      <td>Konin</td>\n",
       "      <td>pl. Jaśminowa 73/03</td>\n",
       "    </tr>\n",
       "    <tr>\n",
       "      <th>196</th>\n",
       "      <td>298</td>\n",
       "      <td>Andrzej Wincenciak</td>\n",
       "      <td>Kutno</td>\n",
       "      <td>pl. Stycznia 46/82</td>\n",
       "    </tr>\n",
       "    <tr>\n",
       "      <th>197</th>\n",
       "      <td>299</td>\n",
       "      <td>Lidia Nestorowicz</td>\n",
       "      <td>Kutno</td>\n",
       "      <td>pl. Częstochowska 242</td>\n",
       "    </tr>\n",
       "    <tr>\n",
       "      <th>198</th>\n",
       "      <td>300</td>\n",
       "      <td>Borys Czupryna</td>\n",
       "      <td>Police</td>\n",
       "      <td>ul. Wodna 44/29</td>\n",
       "    </tr>\n",
       "    <tr>\n",
       "      <th>199</th>\n",
       "      <td>301</td>\n",
       "      <td>Alex Deptuch</td>\n",
       "      <td>Szczecin</td>\n",
       "      <td>ul. Górna 14</td>\n",
       "    </tr>\n",
       "  </tbody>\n",
       "</table>\n",
       "<p>200 rows × 4 columns</p>\n",
       "</div>"
      ],
      "text/plain": [
       "     user_id                name      city                         street\n",
       "0        102       Ignacy Kozica    Police                ul. Wiśniowa 14\n",
       "1        103    Sylwia Czubaszek  Warszawa               plac Towarowa 28\n",
       "2        104           Bruno Bak     Kutno  ul. Bolesława Krzywoustego 91\n",
       "3        105      Aniela Kaziród    Mielec                ul. Długa 69/74\n",
       "4        106     Norbert Trybała  Warszawa            aleja Targowa 28/25\n",
       "..       ...                 ...       ...                            ...\n",
       "195      297   Justyna Grzelczyk     Konin            pl. Jaśminowa 73/03\n",
       "196      298  Andrzej Wincenciak     Kutno             pl. Stycznia 46/82\n",
       "197      299   Lidia Nestorowicz     Kutno          pl. Częstochowska 242\n",
       "198      300      Borys Czupryna    Police                ul. Wodna 44/29\n",
       "199      301        Alex Deptuch  Szczecin                   ul. Górna 14\n",
       "\n",
       "[200 rows x 4 columns]"
      ]
     },
     "execution_count": 24,
     "metadata": {},
     "output_type": "execute_result"
    }
   ],
   "source": [
    "users"
   ]
  },
  {
   "cell_type": "markdown",
   "id": "authentic-sector",
   "metadata": {},
   "source": [
    "##### Dane w pliku **users.jsonl** są w poprawne, ale przydadzą nam się z niego tylko kolumny **user_id** oraz (może) **city**. Pozostałe są nieprzydatne."
   ]
  },
  {
   "cell_type": "markdown",
   "id": "prescription-blond",
   "metadata": {},
   "source": [
    "### Products.jsonl"
   ]
  },
  {
   "cell_type": "code",
   "execution_count": 25,
   "id": "deluxe-auckland",
   "metadata": {
    "scrolled": false
   },
   "outputs": [
    {
     "name": "stdout",
     "output_type": "stream",
     "text": [
      "<class 'pandas.core.frame.DataFrame'>\n",
      "RangeIndex: 319 entries, 0 to 318\n",
      "Data columns (total 4 columns):\n",
      " #   Column         Non-Null Count  Dtype  \n",
      "---  ------         --------------  -----  \n",
      " 0   product_id     319 non-null    int64  \n",
      " 1   product_name   319 non-null    object \n",
      " 2   category_path  319 non-null    object \n",
      " 3   price          319 non-null    float64\n",
      "dtypes: float64(1), int64(1), object(2)\n",
      "memory usage: 10.1+ KB\n"
     ]
    }
   ],
   "source": [
    "products.info()"
   ]
  },
  {
   "cell_type": "code",
   "execution_count": 26,
   "id": "understood-insured",
   "metadata": {},
   "outputs": [
    {
     "data": {
      "text/html": [
       "<div>\n",
       "<style scoped>\n",
       "    .dataframe tbody tr th:only-of-type {\n",
       "        vertical-align: middle;\n",
       "    }\n",
       "\n",
       "    .dataframe tbody tr th {\n",
       "        vertical-align: top;\n",
       "    }\n",
       "\n",
       "    .dataframe thead th {\n",
       "        text-align: right;\n",
       "    }\n",
       "</style>\n",
       "<table border=\"1\" class=\"dataframe\">\n",
       "  <thead>\n",
       "    <tr style=\"text-align: right;\">\n",
       "      <th></th>\n",
       "      <th>product_id</th>\n",
       "      <th>product_name</th>\n",
       "      <th>category_path</th>\n",
       "      <th>price</th>\n",
       "    </tr>\n",
       "  </thead>\n",
       "  <tbody>\n",
       "    <tr>\n",
       "      <th>0</th>\n",
       "      <td>1001</td>\n",
       "      <td>Telefon Siemens Gigaset DA310</td>\n",
       "      <td>Telefony i akcesoria;Telefony stacjonarne</td>\n",
       "      <td>58.97</td>\n",
       "    </tr>\n",
       "    <tr>\n",
       "      <th>1</th>\n",
       "      <td>1002</td>\n",
       "      <td>Kyocera FS-1135MFP</td>\n",
       "      <td>Komputery;Drukarki i skanery;Biurowe urządzeni...</td>\n",
       "      <td>2048.50</td>\n",
       "    </tr>\n",
       "    <tr>\n",
       "      <th>2</th>\n",
       "      <td>1003</td>\n",
       "      <td>Kyocera FS-3640MFP</td>\n",
       "      <td>Komputery;Drukarki i skanery;Biurowe urządzeni...</td>\n",
       "      <td>7639.00</td>\n",
       "    </tr>\n",
       "    <tr>\n",
       "      <th>3</th>\n",
       "      <td>1004</td>\n",
       "      <td>Fallout 3 (Xbox 360)</td>\n",
       "      <td>Gry i konsole;Gry na konsole;Gry Xbox 360</td>\n",
       "      <td>49.99</td>\n",
       "    </tr>\n",
       "    <tr>\n",
       "      <th>4</th>\n",
       "      <td>1005</td>\n",
       "      <td>Szalone Króliki Na żywo i w kolorze (Xbox 360)</td>\n",
       "      <td>Gry i konsole;Gry na konsole;Gry Xbox 360</td>\n",
       "      <td>49.99</td>\n",
       "    </tr>\n",
       "    <tr>\n",
       "      <th>...</th>\n",
       "      <td>...</td>\n",
       "      <td>...</td>\n",
       "      <td>...</td>\n",
       "      <td>...</td>\n",
       "    </tr>\n",
       "    <tr>\n",
       "      <th>314</th>\n",
       "      <td>1315</td>\n",
       "      <td>Jabra Talk</td>\n",
       "      <td>Telefony i akcesoria;Akcesoria telefoniczne;Ze...</td>\n",
       "      <td>54.99</td>\n",
       "    </tr>\n",
       "    <tr>\n",
       "      <th>315</th>\n",
       "      <td>1316</td>\n",
       "      <td>Plantronics Voyager Legend</td>\n",
       "      <td>Telefony i akcesoria;Akcesoria telefoniczne;Ze...</td>\n",
       "      <td>249.00</td>\n",
       "    </tr>\n",
       "    <tr>\n",
       "      <th>316</th>\n",
       "      <td>1317</td>\n",
       "      <td>Plantronics Savi W740</td>\n",
       "      <td>Telefony i akcesoria;Akcesoria telefoniczne;Ze...</td>\n",
       "      <td>1303.96</td>\n",
       "    </tr>\n",
       "    <tr>\n",
       "      <th>317</th>\n",
       "      <td>1318</td>\n",
       "      <td>Plantronics Savi W710</td>\n",
       "      <td>Sprzęt RTV;Audio;Słuchawki</td>\n",
       "      <td>553.00</td>\n",
       "    </tr>\n",
       "    <tr>\n",
       "      <th>318</th>\n",
       "      <td>1319</td>\n",
       "      <td>HTC HS-S200</td>\n",
       "      <td>Telefony i akcesoria;Akcesoria telefoniczne;Ze...</td>\n",
       "      <td>14.99</td>\n",
       "    </tr>\n",
       "  </tbody>\n",
       "</table>\n",
       "<p>319 rows × 4 columns</p>\n",
       "</div>"
      ],
      "text/plain": [
       "     product_id                                    product_name  \\\n",
       "0          1001                   Telefon Siemens Gigaset DA310   \n",
       "1          1002                              Kyocera FS-1135MFP   \n",
       "2          1003                              Kyocera FS-3640MFP   \n",
       "3          1004                            Fallout 3 (Xbox 360)   \n",
       "4          1005  Szalone Króliki Na żywo i w kolorze (Xbox 360)   \n",
       "..          ...                                             ...   \n",
       "314        1315                                      Jabra Talk   \n",
       "315        1316                      Plantronics Voyager Legend   \n",
       "316        1317                           Plantronics Savi W740   \n",
       "317        1318                           Plantronics Savi W710   \n",
       "318        1319                                     HTC HS-S200   \n",
       "\n",
       "                                         category_path    price  \n",
       "0            Telefony i akcesoria;Telefony stacjonarne    58.97  \n",
       "1    Komputery;Drukarki i skanery;Biurowe urządzeni...  2048.50  \n",
       "2    Komputery;Drukarki i skanery;Biurowe urządzeni...  7639.00  \n",
       "3            Gry i konsole;Gry na konsole;Gry Xbox 360    49.99  \n",
       "4            Gry i konsole;Gry na konsole;Gry Xbox 360    49.99  \n",
       "..                                                 ...      ...  \n",
       "314  Telefony i akcesoria;Akcesoria telefoniczne;Ze...    54.99  \n",
       "315  Telefony i akcesoria;Akcesoria telefoniczne;Ze...   249.00  \n",
       "316  Telefony i akcesoria;Akcesoria telefoniczne;Ze...  1303.96  \n",
       "317                         Sprzęt RTV;Audio;Słuchawki   553.00  \n",
       "318  Telefony i akcesoria;Akcesoria telefoniczne;Ze...    14.99  \n",
       "\n",
       "[319 rows x 4 columns]"
      ]
     },
     "execution_count": 26,
     "metadata": {},
     "output_type": "execute_result"
    }
   ],
   "source": [
    "products"
   ]
  },
  {
   "cell_type": "code",
   "execution_count": 27,
   "id": "cellular-quarterly",
   "metadata": {
    "scrolled": true
   },
   "outputs": [
    {
     "data": {
      "text/plain": [
       "array(['Telefony i akcesoria;Telefony stacjonarne',\n",
       "       'Komputery;Drukarki i skanery;Biurowe urządzenia wielofunkcyjne',\n",
       "       'Gry i konsole;Gry na konsole;Gry Xbox 360',\n",
       "       'Komputery;Monitory;Monitory LCD',\n",
       "       'Telefony i akcesoria;Telefony komórkowe',\n",
       "       'Gry i konsole;Gry na konsole;Gry PlayStation3',\n",
       "       'Gry i konsole;Gry komputerowe',\n",
       "       'Telefony i akcesoria;Akcesoria telefoniczne;Zestawy głośnomówiące',\n",
       "       'Sprzęt RTV;Video;Odtwarzacze DVD',\n",
       "       'Komputery;Tablety i akcesoria;Tablety',\n",
       "       'Sprzęt RTV;Przenośne audio i video;Odtwarzacze mp3 i mp4',\n",
       "       'Sprzęt RTV;Video;Telewizory i akcesoria;Okulary 3D',\n",
       "       'Sprzęt RTV;Video;Telewizory i akcesoria;Anteny RTV',\n",
       "       'Telefony i akcesoria;Akcesoria telefoniczne;Zestawy słuchawkowe',\n",
       "       'Sprzęt RTV;Audio;Słuchawki'], dtype=object)"
      ]
     },
     "execution_count": 27,
     "metadata": {},
     "output_type": "execute_result"
    }
   ],
   "source": [
    "products['category_path'].unique()"
   ]
  },
  {
   "cell_type": "markdown",
   "id": "athletic-exchange",
   "metadata": {},
   "source": [
    "Dane w **products.jsonl** wymagają przetworzenia:\n",
    "- niektóre ceny są ujemne\n",
    "- niektóre ceny są horrendalnie wysokie\n",
    "- category_path należy odpowiednio przetworzyć\n",
    "\n",
    "Wszystkie niepoprawne rekordy mogą zostać odrzucone z powodu względnie małej liczby(po ich usunięciu liczba dostępnych rekordów danych będzie wystarczająca). Po usunięciu niektórych wierszy powinniśmy nanieść odpowienie korekty do pozostałych ramek danych(tj. usunąć odpowiadające im wiersze)"
   ]
  },
  {
   "cell_type": "markdown",
   "id": "premier-psychiatry",
   "metadata": {},
   "source": [
    "### Sessions.jsonl"
   ]
  },
  {
   "cell_type": "code",
   "execution_count": 28,
   "id": "active-washer",
   "metadata": {
    "scrolled": true
   },
   "outputs": [
    {
     "name": "stdout",
     "output_type": "stream",
     "text": [
      "<class 'pandas.core.frame.DataFrame'>\n",
      "RangeIndex: 57650 entries, 0 to 57649\n",
      "Data columns (total 7 columns):\n",
      " #   Column            Non-Null Count  Dtype         \n",
      "---  ------            --------------  -----         \n",
      " 0   session_id        57650 non-null  int64         \n",
      " 1   timestamp         57650 non-null  datetime64[ns]\n",
      " 2   user_id           54795 non-null  float64       \n",
      " 3   product_id        54763 non-null  float64       \n",
      " 4   event_type        57650 non-null  object        \n",
      " 5   offered_discount  57650 non-null  int64         \n",
      " 6   purchase_id       3087 non-null   float64       \n",
      "dtypes: datetime64[ns](1), float64(3), int64(2), object(1)\n",
      "memory usage: 3.1+ MB\n"
     ]
    }
   ],
   "source": [
    "sessions.info()"
   ]
  },
  {
   "cell_type": "code",
   "execution_count": 29,
   "id": "handmade-aviation",
   "metadata": {},
   "outputs": [
    {
     "data": {
      "text/html": [
       "<div>\n",
       "<style scoped>\n",
       "    .dataframe tbody tr th:only-of-type {\n",
       "        vertical-align: middle;\n",
       "    }\n",
       "\n",
       "    .dataframe tbody tr th {\n",
       "        vertical-align: top;\n",
       "    }\n",
       "\n",
       "    .dataframe thead th {\n",
       "        text-align: right;\n",
       "    }\n",
       "</style>\n",
       "<table border=\"1\" class=\"dataframe\">\n",
       "  <thead>\n",
       "    <tr style=\"text-align: right;\">\n",
       "      <th></th>\n",
       "      <th>session_id</th>\n",
       "      <th>timestamp</th>\n",
       "      <th>user_id</th>\n",
       "      <th>product_id</th>\n",
       "      <th>event_type</th>\n",
       "      <th>offered_discount</th>\n",
       "      <th>purchase_id</th>\n",
       "    </tr>\n",
       "  </thead>\n",
       "  <tbody>\n",
       "    <tr>\n",
       "      <th>0</th>\n",
       "      <td>100001</td>\n",
       "      <td>2021-01-05 15:51:40</td>\n",
       "      <td>102.0</td>\n",
       "      <td>1017.0</td>\n",
       "      <td>VIEW_PRODUCT</td>\n",
       "      <td>0</td>\n",
       "      <td>NaN</td>\n",
       "    </tr>\n",
       "    <tr>\n",
       "      <th>1</th>\n",
       "      <td>100001</td>\n",
       "      <td>2021-01-05 15:53:25</td>\n",
       "      <td>102.0</td>\n",
       "      <td>1025.0</td>\n",
       "      <td>VIEW_PRODUCT</td>\n",
       "      <td>0</td>\n",
       "      <td>NaN</td>\n",
       "    </tr>\n",
       "    <tr>\n",
       "      <th>2</th>\n",
       "      <td>100001</td>\n",
       "      <td>2021-01-05 15:58:08</td>\n",
       "      <td>102.0</td>\n",
       "      <td>1030.0</td>\n",
       "      <td>VIEW_PRODUCT</td>\n",
       "      <td>0</td>\n",
       "      <td>NaN</td>\n",
       "    </tr>\n",
       "    <tr>\n",
       "      <th>3</th>\n",
       "      <td>100001</td>\n",
       "      <td>2021-01-05 16:01:00</td>\n",
       "      <td>102.0</td>\n",
       "      <td>1032.0</td>\n",
       "      <td>VIEW_PRODUCT</td>\n",
       "      <td>0</td>\n",
       "      <td>NaN</td>\n",
       "    </tr>\n",
       "    <tr>\n",
       "      <th>4</th>\n",
       "      <td>100001</td>\n",
       "      <td>2021-01-05 16:02:18</td>\n",
       "      <td>102.0</td>\n",
       "      <td>1033.0</td>\n",
       "      <td>VIEW_PRODUCT</td>\n",
       "      <td>0</td>\n",
       "      <td>NaN</td>\n",
       "    </tr>\n",
       "    <tr>\n",
       "      <th>...</th>\n",
       "      <td>...</td>\n",
       "      <td>...</td>\n",
       "      <td>...</td>\n",
       "      <td>...</td>\n",
       "      <td>...</td>\n",
       "      <td>...</td>\n",
       "      <td>...</td>\n",
       "    </tr>\n",
       "    <tr>\n",
       "      <th>57645</th>\n",
       "      <td>110442</td>\n",
       "      <td>2021-01-11 19:44:56</td>\n",
       "      <td>301.0</td>\n",
       "      <td>1054.0</td>\n",
       "      <td>VIEW_PRODUCT</td>\n",
       "      <td>0</td>\n",
       "      <td>NaN</td>\n",
       "    </tr>\n",
       "    <tr>\n",
       "      <th>57646</th>\n",
       "      <td>110442</td>\n",
       "      <td>2021-01-11 19:47:31</td>\n",
       "      <td>301.0</td>\n",
       "      <td>1055.0</td>\n",
       "      <td>VIEW_PRODUCT</td>\n",
       "      <td>0</td>\n",
       "      <td>NaN</td>\n",
       "    </tr>\n",
       "    <tr>\n",
       "      <th>57647</th>\n",
       "      <td>110442</td>\n",
       "      <td>2021-01-11 19:48:27</td>\n",
       "      <td>301.0</td>\n",
       "      <td>1056.0</td>\n",
       "      <td>VIEW_PRODUCT</td>\n",
       "      <td>0</td>\n",
       "      <td>NaN</td>\n",
       "    </tr>\n",
       "    <tr>\n",
       "      <th>57648</th>\n",
       "      <td>110442</td>\n",
       "      <td>2021-01-11 19:48:45</td>\n",
       "      <td>301.0</td>\n",
       "      <td>1057.0</td>\n",
       "      <td>VIEW_PRODUCT</td>\n",
       "      <td>0</td>\n",
       "      <td>NaN</td>\n",
       "    </tr>\n",
       "    <tr>\n",
       "      <th>57649</th>\n",
       "      <td>110442</td>\n",
       "      <td>2021-01-11 19:52:01</td>\n",
       "      <td>301.0</td>\n",
       "      <td>1057.0</td>\n",
       "      <td>BUY_PRODUCT</td>\n",
       "      <td>0</td>\n",
       "      <td>23087.0</td>\n",
       "    </tr>\n",
       "  </tbody>\n",
       "</table>\n",
       "<p>57650 rows × 7 columns</p>\n",
       "</div>"
      ],
      "text/plain": [
       "       session_id           timestamp  user_id  product_id    event_type  \\\n",
       "0          100001 2021-01-05 15:51:40    102.0      1017.0  VIEW_PRODUCT   \n",
       "1          100001 2021-01-05 15:53:25    102.0      1025.0  VIEW_PRODUCT   \n",
       "2          100001 2021-01-05 15:58:08    102.0      1030.0  VIEW_PRODUCT   \n",
       "3          100001 2021-01-05 16:01:00    102.0      1032.0  VIEW_PRODUCT   \n",
       "4          100001 2021-01-05 16:02:18    102.0      1033.0  VIEW_PRODUCT   \n",
       "...           ...                 ...      ...         ...           ...   \n",
       "57645      110442 2021-01-11 19:44:56    301.0      1054.0  VIEW_PRODUCT   \n",
       "57646      110442 2021-01-11 19:47:31    301.0      1055.0  VIEW_PRODUCT   \n",
       "57647      110442 2021-01-11 19:48:27    301.0      1056.0  VIEW_PRODUCT   \n",
       "57648      110442 2021-01-11 19:48:45    301.0      1057.0  VIEW_PRODUCT   \n",
       "57649      110442 2021-01-11 19:52:01    301.0      1057.0   BUY_PRODUCT   \n",
       "\n",
       "       offered_discount  purchase_id  \n",
       "0                     0          NaN  \n",
       "1                     0          NaN  \n",
       "2                     0          NaN  \n",
       "3                     0          NaN  \n",
       "4                     0          NaN  \n",
       "...                 ...          ...  \n",
       "57645                 0          NaN  \n",
       "57646                 0          NaN  \n",
       "57647                 0          NaN  \n",
       "57648                 0          NaN  \n",
       "57649                 0      23087.0  \n",
       "\n",
       "[57650 rows x 7 columns]"
      ]
     },
     "execution_count": 29,
     "metadata": {},
     "output_type": "execute_result"
    }
   ],
   "source": [
    "sessions"
   ]
  },
  {
   "cell_type": "code",
   "execution_count": 30,
   "id": "persistent-harmony",
   "metadata": {},
   "outputs": [
    {
     "data": {
      "text/plain": [
       "array(['VIEW_PRODUCT', 'BUY_PRODUCT'], dtype=object)"
      ]
     },
     "execution_count": 30,
     "metadata": {},
     "output_type": "execute_result"
    }
   ],
   "source": [
    "sessions['event_type'].unique()"
   ]
  },
  {
   "cell_type": "markdown",
   "id": "lovely-mambo",
   "metadata": {},
   "source": [
    "Wymagają obróbki:\n",
    "- user_id czasami jest nullem\n",
    "- product_id czasami jest nullem\n",
    "- purchase_id jest niepotrzebne bo nie używamy deliveries.jsonl\n"
   ]
  },
  {
   "cell_type": "markdown",
   "id": "adolescent-beach",
   "metadata": {},
   "source": [
    "## Podsumowanie analizy danych"
   ]
  },
  {
   "cell_type": "markdown",
   "id": "italian-invalid",
   "metadata": {},
   "source": [
    "Co by się przydało:\n",
    "- jak długo klient oglądał dany produkt? żeby móc \"odsiać\" przypadkowe kliknięcie(arbirtalnie poniżej 2 sekund)\n",
    "- większa pula meta danych klientów? żeby móc zgrupowac klientów w sposób bardziej wyszukany niż po miescie\n",
    "- ocena przedmiotu? żeby móc proponować najlepsze produkty(długoterminowy zysk) zamiast często kupowanych ale potencjalnie wadliwych(krótkowzroczne)\n",
    "- ???"
   ]
  },
  {
   "cell_type": "markdown",
   "id": "material-vancouver",
   "metadata": {},
   "source": [
    "**deliveries.jsonl** nie jest potrzebne"
   ]
  },
  {
   "cell_type": "markdown",
   "id": "found-petersburg",
   "metadata": {},
   "source": [
    "## Obróbka danych(przy założeniu zwykłej klasyfikacji - za czym optuję)\n",
    "Proponuję dane w **sessions.jsonl** przerobić w taki sposób, żeby \"scalić\" rekordy odpowiadające jednej sesji w taki sposób żeby rekord sesji posiadał:\n",
    "- czas trwania sesji(zwyczajne `max[] i min[]` )\n",
    "- zniżka z całej sesji(z tego co widzę zniżka jest na całą sesję a nie na poszczególne produkty)\n",
    "- user_id\n",
    "- czy sesja zakończyłą się zakupem\n",
    "- średnia kwota przeglądanych produktów? może mediana? może oba?\n",
    "- liczba zarobionych pieniędzy?\n",
    "- najczęściej przeglądana kategoria? może dwie najczęstsze?\n",
    "\n",
    "\n",
    "##### Następnie zmergowałbym te przerobione dane z innymi ramkami danych w taki sposób żeby mieć wszsytko w jednym miejscu, czyli jeden rekod miałby:\n",
    "- wszystko co wyżej\n",
    "- miasto użtykownika\n",
    "- coś z produktami trzeba wymyśleć, proponuję zrobić kolumne binarną na każdy produkt(albo przynajmniej na każdą kategorię), to sięchyba nazywa `one hot encoding`\n",
    "\n",
    "\n",
    "Z prduktami też możemy się pobawić\n",
    "np. policzyć jakąś proporcje zakup/oglądanie, co by potem mogło się przełożyć na predykcje czy coś kupujemy\n",
    "ale tak po zastanowieniu to raczej zbędne, algorytmy same zrobią coś podobnego(może nie w prost, ale efekt będzie podobny)\n",
    "\n",
    "\n"
   ]
  },
  {
   "cell_type": "markdown",
   "id": "premier-stupid",
   "metadata": {},
   "source": []
  }
 ],
 "metadata": {
  "kernelspec": {
   "display_name": "Python 3",
   "language": "python",
   "name": "python3"
  },
  "language_info": {
   "codemirror_mode": {
    "name": "ipython",
    "version": 3
   },
   "file_extension": ".py",
   "mimetype": "text/x-python",
   "name": "python",
   "nbconvert_exporter": "python",
   "pygments_lexer": "ipython3",
   "version": "3.8.5"
  }
 },
 "nbformat": 4,
 "nbformat_minor": 5
}
