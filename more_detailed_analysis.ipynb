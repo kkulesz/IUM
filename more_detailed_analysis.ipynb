{
 "cells": [
  {
   "cell_type": "markdown",
   "metadata": {},
   "source": [
    "## Analiza danych"
   ]
  },
  {
   "cell_type": "code",
   "execution_count": 41,
   "metadata": {},
   "outputs": [],
   "source": [
    "import matplotlib.pyplot as plt\n",
    "import pandas as pd\n",
    "import numpy as np"
   ]
  },
  {
   "cell_type": "code",
   "execution_count": 42,
   "metadata": {},
   "outputs": [
    {
     "name": "stdout",
     "output_type": "stream",
     "text": [
      "<class 'pandas.core.frame.DataFrame'>\n",
      "RangeIndex: 9598 entries, 0 to 9597\n",
      "Data columns (total 42 columns):\n",
      " #   Column                                 Non-Null Count  Dtype  \n",
      "---  ------                                 --------------  -----  \n",
      " 0   Unnamed: 0                             9598 non-null   int64  \n",
      " 1   length                                 9598 non-null   object \n",
      " 2   discount                               9598 non-null   int64  \n",
      " 3   user_id                                9598 non-null   int64  \n",
      " 4   successful                             9598 non-null   bool   \n",
      " 5   mean_price                             9598 non-null   float64\n",
      " 6   median_of_price                        9598 non-null   float64\n",
      " 7   min_rating                             9598 non-null   float64\n",
      " 8   max_rating                             9598 non-null   float64\n",
      " 9   mean_rating                            9598 non-null   float64\n",
      " 10  sessions_so_far                        9598 non-null   int64  \n",
      " 11  successful_sessions_so_far             9598 non-null   int64  \n",
      " 12  cat_Akcesoria_telefoniczne             9598 non-null   int64  \n",
      " 13  cat_Anteny_RTV                         9598 non-null   int64  \n",
      " 14  cat_Audio                              9598 non-null   int64  \n",
      " 15  cat_Biurowe_urządzenia_wielofunkcyjne  9598 non-null   int64  \n",
      " 16  cat_Drukarki_i_skanery                 9598 non-null   int64  \n",
      " 17  cat_Gry_PlayStation3                   9598 non-null   int64  \n",
      " 18  cat_Gry_Xbox_360                       9598 non-null   int64  \n",
      " 19  cat_Gry_i_konsole                      9598 non-null   int64  \n",
      " 20  cat_Gry_komputerowe                    9598 non-null   int64  \n",
      " 21  cat_Gry_na_konsole                     9598 non-null   int64  \n",
      " 22  cat_Komputery                          9598 non-null   int64  \n",
      " 23  cat_Monitory                           9598 non-null   int64  \n",
      " 24  cat_Monitory_LCD                       9598 non-null   int64  \n",
      " 25  cat_Odtwarzacze_DVD                    9598 non-null   int64  \n",
      " 26  cat_Odtwarzacze_mp3_i_mp4              9598 non-null   int64  \n",
      " 27  cat_Okulary_3D                         9598 non-null   int64  \n",
      " 28  cat_Przenośne_audio_i_video            9598 non-null   int64  \n",
      " 29  cat_Sprzęt_RTV                         9598 non-null   int64  \n",
      " 30  cat_Słuchawki                          9598 non-null   int64  \n",
      " 31  cat_Tablety                            9598 non-null   int64  \n",
      " 32  cat_Tablety_i_akcesoria                9598 non-null   int64  \n",
      " 33  cat_Telefony_i_akcesoria               9598 non-null   int64  \n",
      " 34  cat_Telefony_komórkowe                 9598 non-null   int64  \n",
      " 35  cat_Telefony_stacjonarne               9598 non-null   int64  \n",
      " 36  cat_Telewizory_i_akcesoria             9598 non-null   int64  \n",
      " 37  cat_Video                              9598 non-null   int64  \n",
      " 38  cat_Zestawy_głośnomówiące              9598 non-null   int64  \n",
      " 39  cat_Zestawy_słuchawkowe                9598 non-null   int64  \n",
      " 40  city                                   9598 non-null   object \n",
      " 41  gender                                 9598 non-null   bool   \n",
      "dtypes: bool(2), float64(5), int64(33), object(2)\n",
      "memory usage: 2.9+ MB\n"
     ]
    }
   ],
   "source": [
    "data = pd.read_csv('data/parsed_data.csv')\n",
    "data.info()"
   ]
  },
  {
   "cell_type": "code",
   "execution_count": 43,
   "metadata": {},
   "outputs": [
    {
     "data": {
      "text/plain": [
       "0.3"
      ]
     },
     "execution_count": 43,
     "metadata": {},
     "output_type": "execute_result"
    }
   ],
   "source": [
    "num_of_rows = data.shape[0]\n",
    "successful = data[data.successful == True]\n",
    "unsuccessful = data[data.successful != True]\n",
    "num_of_successful = len(successful)\n",
    "num_of_unsuccessful = len(unsuccessful)\n",
    "\n",
    "ratio = round(num_of_successful / num_of_unsuccessful, 2)\n",
    "# stosunek sesji zakończonych zakupem do sesji pustych\n",
    "ratio"
   ]
  },
  {
   "cell_type": "code",
   "execution_count": 44,
   "metadata": {},
   "outputs": [
    {
     "data": {
      "text/plain": [
       "0.23"
      ]
     },
     "execution_count": 44,
     "metadata": {},
     "output_type": "execute_result"
    }
   ],
   "source": [
    "# procent sesji zakończonych sukcesem\n",
    "round(num_of_successful / (num_of_successful+num_of_unsuccessful), 2)"
   ]
  },
  {
   "cell_type": "code",
   "execution_count": 52,
   "metadata": {},
   "outputs": [
    {
     "data": {
      "text/html": [
       "<div>\n",
       "<style scoped>\n",
       "    .dataframe tbody tr th:only-of-type {\n",
       "        vertical-align: middle;\n",
       "    }\n",
       "\n",
       "    .dataframe tbody tr th {\n",
       "        vertical-align: top;\n",
       "    }\n",
       "\n",
       "    .dataframe thead th {\n",
       "        text-align: right;\n",
       "    }\n",
       "</style>\n",
       "<table border=\"1\" class=\"dataframe\">\n",
       "  <thead>\n",
       "    <tr style=\"text-align: right;\">\n",
       "      <th></th>\n",
       "      <th>discount</th>\n",
       "      <th>Unnamed: 0</th>\n",
       "      <th>length</th>\n",
       "      <th>user_id</th>\n",
       "      <th>successful</th>\n",
       "      <th>mean_price</th>\n",
       "      <th>median_of_price</th>\n",
       "      <th>min_rating</th>\n",
       "      <th>max_rating</th>\n",
       "      <th>mean_rating</th>\n",
       "      <th>...</th>\n",
       "      <th>cat_Tablety_i_akcesoria</th>\n",
       "      <th>cat_Telefony_i_akcesoria</th>\n",
       "      <th>cat_Telefony_komórkowe</th>\n",
       "      <th>cat_Telefony_stacjonarne</th>\n",
       "      <th>cat_Telewizory_i_akcesoria</th>\n",
       "      <th>cat_Video</th>\n",
       "      <th>cat_Zestawy_głośnomówiące</th>\n",
       "      <th>cat_Zestawy_słuchawkowe</th>\n",
       "      <th>city</th>\n",
       "      <th>gender</th>\n",
       "    </tr>\n",
       "  </thead>\n",
       "  <tbody>\n",
       "    <tr>\n",
       "      <th>0</th>\n",
       "      <td>0</td>\n",
       "      <td>5665</td>\n",
       "      <td>5665</td>\n",
       "      <td>5665</td>\n",
       "      <td>5665</td>\n",
       "      <td>5665</td>\n",
       "      <td>5665</td>\n",
       "      <td>5665</td>\n",
       "      <td>5665</td>\n",
       "      <td>5665</td>\n",
       "      <td>...</td>\n",
       "      <td>5665</td>\n",
       "      <td>5665</td>\n",
       "      <td>5665</td>\n",
       "      <td>5665</td>\n",
       "      <td>5665</td>\n",
       "      <td>5665</td>\n",
       "      <td>5665</td>\n",
       "      <td>5665</td>\n",
       "      <td>5665</td>\n",
       "      <td>5665</td>\n",
       "    </tr>\n",
       "    <tr>\n",
       "      <th>1</th>\n",
       "      <td>5</td>\n",
       "      <td>994</td>\n",
       "      <td>994</td>\n",
       "      <td>994</td>\n",
       "      <td>994</td>\n",
       "      <td>994</td>\n",
       "      <td>994</td>\n",
       "      <td>994</td>\n",
       "      <td>994</td>\n",
       "      <td>994</td>\n",
       "      <td>...</td>\n",
       "      <td>994</td>\n",
       "      <td>994</td>\n",
       "      <td>994</td>\n",
       "      <td>994</td>\n",
       "      <td>994</td>\n",
       "      <td>994</td>\n",
       "      <td>994</td>\n",
       "      <td>994</td>\n",
       "      <td>994</td>\n",
       "      <td>994</td>\n",
       "    </tr>\n",
       "    <tr>\n",
       "      <th>2</th>\n",
       "      <td>10</td>\n",
       "      <td>968</td>\n",
       "      <td>968</td>\n",
       "      <td>968</td>\n",
       "      <td>968</td>\n",
       "      <td>968</td>\n",
       "      <td>968</td>\n",
       "      <td>968</td>\n",
       "      <td>968</td>\n",
       "      <td>968</td>\n",
       "      <td>...</td>\n",
       "      <td>968</td>\n",
       "      <td>968</td>\n",
       "      <td>968</td>\n",
       "      <td>968</td>\n",
       "      <td>968</td>\n",
       "      <td>968</td>\n",
       "      <td>968</td>\n",
       "      <td>968</td>\n",
       "      <td>968</td>\n",
       "      <td>968</td>\n",
       "    </tr>\n",
       "    <tr>\n",
       "      <th>3</th>\n",
       "      <td>15</td>\n",
       "      <td>1017</td>\n",
       "      <td>1017</td>\n",
       "      <td>1017</td>\n",
       "      <td>1017</td>\n",
       "      <td>1017</td>\n",
       "      <td>1017</td>\n",
       "      <td>1017</td>\n",
       "      <td>1017</td>\n",
       "      <td>1017</td>\n",
       "      <td>...</td>\n",
       "      <td>1017</td>\n",
       "      <td>1017</td>\n",
       "      <td>1017</td>\n",
       "      <td>1017</td>\n",
       "      <td>1017</td>\n",
       "      <td>1017</td>\n",
       "      <td>1017</td>\n",
       "      <td>1017</td>\n",
       "      <td>1017</td>\n",
       "      <td>1017</td>\n",
       "    </tr>\n",
       "    <tr>\n",
       "      <th>4</th>\n",
       "      <td>20</td>\n",
       "      <td>954</td>\n",
       "      <td>954</td>\n",
       "      <td>954</td>\n",
       "      <td>954</td>\n",
       "      <td>954</td>\n",
       "      <td>954</td>\n",
       "      <td>954</td>\n",
       "      <td>954</td>\n",
       "      <td>954</td>\n",
       "      <td>...</td>\n",
       "      <td>954</td>\n",
       "      <td>954</td>\n",
       "      <td>954</td>\n",
       "      <td>954</td>\n",
       "      <td>954</td>\n",
       "      <td>954</td>\n",
       "      <td>954</td>\n",
       "      <td>954</td>\n",
       "      <td>954</td>\n",
       "      <td>954</td>\n",
       "    </tr>\n",
       "  </tbody>\n",
       "</table>\n",
       "<p>5 rows × 42 columns</p>\n",
       "</div>"
      ],
      "text/plain": [
       "   discount  Unnamed: 0  length  user_id  successful  mean_price  \\\n",
       "0         0        5665    5665     5665        5665        5665   \n",
       "1         5         994     994      994         994         994   \n",
       "2        10         968     968      968         968         968   \n",
       "3        15        1017    1017     1017        1017        1017   \n",
       "4        20         954     954      954         954         954   \n",
       "\n",
       "   median_of_price  min_rating  max_rating  mean_rating  ...  \\\n",
       "0             5665        5665        5665         5665  ...   \n",
       "1              994         994         994          994  ...   \n",
       "2              968         968         968          968  ...   \n",
       "3             1017        1017        1017         1017  ...   \n",
       "4              954         954         954          954  ...   \n",
       "\n",
       "   cat_Tablety_i_akcesoria  cat_Telefony_i_akcesoria  cat_Telefony_komórkowe  \\\n",
       "0                     5665                      5665                    5665   \n",
       "1                      994                       994                     994   \n",
       "2                      968                       968                     968   \n",
       "3                     1017                      1017                    1017   \n",
       "4                      954                       954                     954   \n",
       "\n",
       "   cat_Telefony_stacjonarne  cat_Telewizory_i_akcesoria  cat_Video  \\\n",
       "0                      5665                        5665       5665   \n",
       "1                       994                         994        994   \n",
       "2                       968                         968        968   \n",
       "3                      1017                        1017       1017   \n",
       "4                       954                         954        954   \n",
       "\n",
       "   cat_Zestawy_głośnomówiące  cat_Zestawy_słuchawkowe  city  gender  \n",
       "0                       5665                     5665  5665    5665  \n",
       "1                        994                      994   994     994  \n",
       "2                        968                      968   968     968  \n",
       "3                       1017                     1017  1017    1017  \n",
       "4                        954                      954   954     954  \n",
       "\n",
       "[5 rows x 42 columns]"
      ]
     },
     "execution_count": 52,
     "metadata": {},
     "output_type": "execute_result"
    }
   ],
   "source": [
    "discounts = data.groupby('discount').count().reset_index('discount')\n",
    "discounts"
   ]
  },
  {
   "cell_type": "code",
   "execution_count": 53,
   "metadata": {},
   "outputs": [
    {
     "data": {
      "image/png": "[encoded data removed]",
      "text/plain": [
       "<Figure size 432x288 with 1 Axes>"
      ]
     },
     "metadata": {
      "needs_background": "light"
     },
     "output_type": "display_data"
    }
   ],
   "source": [
    "x_pos = np.arange(len(discounts['successful']))\n",
    "\n",
    "plt.bar(x_pos, discounts['successful'])\n",
    "\n",
    "plt.title('Successful discounts')\n",
    "plt.xlabel('discounts [%]')\n",
    "plt.ylabel('successes')\n",
    " \n",
    "plt.xticks(x_pos, discounts['discount'])\n",
    " \n",
    "plt.show()"
   ]
  },
  {
   "cell_type": "markdown",
   "metadata": {},
   "source": []
  },
  {
   "cell_type": "code",
   "execution_count": null,
   "metadata": {},
   "outputs": [],
   "source": []
  }
 ],
 "metadata": {
  "kernelspec": {
   "display_name": "Python 3",
   "language": "python",
   "name": "python3"
  },
  "language_info": {
   "codemirror_mode": {
    "name": "ipython",
    "version": 3
   },
   "file_extension": ".py",
   "mimetype": "text/x-python",
   "name": "python",
   "nbconvert_exporter": "python",
   "pygments_lexer": "ipython3",
   "version": "3.8.5"
  }
 },
 "nbformat": 4,
 "nbformat_minor": 5
}