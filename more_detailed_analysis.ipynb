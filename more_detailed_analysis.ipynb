{
 "cells": [
  {
   "cell_type": "markdown",
   "id": "every-sword",
   "metadata": {},
   "source": [
    "## Analiza danych"
   ]
  },
  {
   "cell_type": "code",
   "execution_count": 2,
   "id": "figured-honduras",
   "metadata": {},
   "outputs": [],
   "source": [
    "import matplotlib.pyplot as plt\n",
    "import pandas as pd"
   ]
  },
  {
   "cell_type": "code",
   "execution_count": 3,
   "id": "regional-firmware",
   "metadata": {},
   "outputs": [
    {
     "name": "stdout",
     "output_type": "stream",
     "text": [
      "<class 'pandas.core.frame.DataFrame'>\n",
      "RangeIndex: 9598 entries, 0 to 9597\n",
      "Data columns (total 41 columns):\n",
      " #   Column                                 Non-Null Count  Dtype  \n",
      "---  ------                                 --------------  -----  \n",
      " 0   Unnamed: 0                             9598 non-null   int64  \n",
      " 1   length                                 9598 non-null   object \n",
      " 2   discount                               9598 non-null   int64  \n",
      " 3   user_id                                9598 non-null   int64  \n",
      " 4   successful                             9598 non-null   bool   \n",
      " 5   mean_price                             9598 non-null   float64\n",
      " 6   min_rating                             9598 non-null   float64\n",
      " 7   max_rating                             9598 non-null   float64\n",
      " 8   mean_rating                            9598 non-null   float64\n",
      " 9   successful_sessions_so_far             9598 non-null   int64  \n",
      " 10  sessions_so_far                        9598 non-null   int64  \n",
      " 11  cat_Akcesoria_telefoniczne             9598 non-null   int64  \n",
      " 12  cat_Anteny_RTV                         9598 non-null   int64  \n",
      " 13  cat_Audio                              9598 non-null   int64  \n",
      " 14  cat_Biurowe_urządzenia_wielofunkcyjne  9598 non-null   int64  \n",
      " 15  cat_Drukarki_i_skanery                 9598 non-null   int64  \n",
      " 16  cat_Gry_PlayStation3                   9598 non-null   int64  \n",
      " 17  cat_Gry_Xbox_360                       9598 non-null   int64  \n",
      " 18  cat_Gry_i_konsole                      9598 non-null   int64  \n",
      " 19  cat_Gry_komputerowe                    9598 non-null   int64  \n",
      " 20  cat_Gry_na_konsole                     9598 non-null   int64  \n",
      " 21  cat_Komputery                          9598 non-null   int64  \n",
      " 22  cat_Monitory                           9598 non-null   int64  \n",
      " 23  cat_Monitory_LCD                       9598 non-null   int64  \n",
      " 24  cat_Odtwarzacze_DVD                    9598 non-null   int64  \n",
      " 25  cat_Odtwarzacze_mp3_i_mp4              9598 non-null   int64  \n",
      " 26  cat_Okulary_3D                         9598 non-null   int64  \n",
      " 27  cat_Przenośne_audio_i_video            9598 non-null   int64  \n",
      " 28  cat_Sprzęt_RTV                         9598 non-null   int64  \n",
      " 29  cat_Słuchawki                          9598 non-null   int64  \n",
      " 30  cat_Tablety                            9598 non-null   int64  \n",
      " 31  cat_Tablety_i_akcesoria                9598 non-null   int64  \n",
      " 32  cat_Telefony_i_akcesoria               9598 non-null   int64  \n",
      " 33  cat_Telefony_komórkowe                 9598 non-null   int64  \n",
      " 34  cat_Telefony_stacjonarne               9598 non-null   int64  \n",
      " 35  cat_Telewizory_i_akcesoria             9598 non-null   int64  \n",
      " 36  cat_Video                              9598 non-null   int64  \n",
      " 37  cat_Zestawy_głośnomówiące              9598 non-null   int64  \n",
      " 38  cat_Zestawy_słuchawkowe                9598 non-null   int64  \n",
      " 39  city                                   9598 non-null   object \n",
      " 40  gender                                 9598 non-null   bool   \n",
      "dtypes: bool(2), float64(4), int64(33), object(2)\n",
      "memory usage: 2.9+ MB\n"
     ]
    }
   ],
   "source": [
    "data = pd.read_csv('data/parsed_data.csv')\n",
    "data.info()"
   ]
  },
  {
   "cell_type": "code",
   "execution_count": 4,
   "id": "answering-assessment",
   "metadata": {},
   "outputs": [
    {
     "data": {
      "text/plain": [
       "0.3"
      ]
     },
     "execution_count": 4,
     "metadata": {},
     "output_type": "execute_result"
    }
   ],
   "source": [
    "num_of_rows = data.shape[0]\n",
    "successful = data[data.successful == True]\n",
    "unsuccessful = data[data.successful != True]\n",
    "num_of_successful = len(successful)\n",
    "num_of_unsuccessful = len(unsuccessful)\n",
    "\n",
    "ratio = round(num_of_successful / num_of_unsuccessful, 2)\n",
    "# stosunek sesji zakończonych zakupem do sesji pustych\n",
    "ratio"
   ]
  },
  {
   "cell_type": "code",
   "execution_count": 6,
   "id": "lesser-rescue",
   "metadata": {},
   "outputs": [
    {
     "data": {
      "text/plain": [
       "0.23"
      ]
     },
     "execution_count": 6,
     "metadata": {},
     "output_type": "execute_result"
    }
   ],
   "source": [
    "# procent sesji zakończonych sukcesem\n",
    "round(num_of_successful / (num_of_successful+num_of_unsuccessful), 2)"
   ]
  },
  {
   "cell_type": "code",
   "execution_count": 7,
   "id": "verbal-audit",
   "metadata": {},
   "outputs": [
    {
     "data": {
      "image/png": "[encoded data removed]",
      "text/plain": [
       "<Figure size 288x288 with 1 Axes>"
      ]
     },
     "metadata": {
      "needs_background": "light"
     },
     "output_type": "display_data"
    }
   ],
   "source": [
    "# ten wykres można zrobić dla kilku zestawów kolumn.\n",
    "plt.matshow(data.corr())\n",
    "plt.show()"
   ]
  },
  {
   "cell_type": "markdown",
   "id": "affiliated-tournament",
   "metadata": {},
   "source": []
  }
 ],
 "metadata": {
  "kernelspec": {
   "display_name": "Python 3",
   "language": "python",
   "name": "python3"
  },
  "language_info": {
   "codemirror_mode": {
    "name": "ipython",
    "version": 3
   },
   "file_extension": ".py",
   "mimetype": "text/x-python",
   "name": "python",
   "nbconvert_exporter": "python",
   "pygments_lexer": "ipython3",
   "version": "3.8.5"
  }
 },
 "nbformat": 4,
 "nbformat_minor": 5
}
